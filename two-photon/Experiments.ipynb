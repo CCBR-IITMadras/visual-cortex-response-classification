{
 "cells": [
  {
   "cell_type": "markdown",
   "metadata": {},
   "source": [
    "# Experiments on two photon dataset\n",
    "- This python notebook contains the code to repeat all our results on two photon dataset.\n",
    "- The data is made publically available by Allen Institue of Brain Scienence and can be found at [here](http://observatory.brain-map.org/visualcoding \"Dataset Link\").\n",
    "\n"
   ]
  },
  {
   "cell_type": "markdown",
   "metadata": {},
   "source": [
    "## Step 1: Download dataset using allenSDK\n",
    "- This dataset has individual neuronal responses recorded from mice of different transgenic Cre-lines.\n",
    "- For the initial analaysis, we use two Cre Lines data.\n",
    "- For each Cre-Line we use the neuronal responses to Natural Movies 1, 2, 3 and Resting State responses.\n",
    "The below given code downloads the corresponding data from [http://observatory.brain-map.org/visualcoding](http://observatory.brain-map.org/visualcoding \"Dataset Link\")"
   ]
  },
  {
   "cell_type": "code",
   "execution_count": 1,
   "metadata": {},
   "outputs": [],
   "source": [
    "import allensdk.brain_observatory.stimulus_info as stim_info\n",
    "from allen_api import download_allen_insitute_data, prepare_allen_insitute_data\n",
    "cre_lines=['Emx1-IRES-Cre','Nr5a1-Cre'];\n",
    "stimuli_set=[stim_info.NATURAL_MOVIE_ONE, stim_info.NATURAL_MOVIE_TWO,\n",
    "             stim_info.NATURAL_MOVIE_THREE, stim_info.SPONTANEOUS_ACTIVITY]\n",
    "\n",
    "for cre_line in cre_lines:\n",
    "    for stimuli in stimuli_set:\n",
    "        # downloads experiment data from allen inistute respository\n",
    "        download_allen_insitute_data(cre_line, stimuli, 5)\n",
    "        # extracts the responses to stimuli of intrest and saves them in a mat file for further processing\n",
    "        prepare_allen_insitute_data(cre_line, stimuli)\n",
    "        continue"
   ]
  },
  {
   "cell_type": "markdown",
   "metadata": {},
   "source": [
    "## Step 2: Train and test the neuronal responses using supervised classifier\n",
    "- Four different types of classifier have been implemented\n",
    "- Step 1. Needs to be completed before running this step.\n",
    "- Results are avaraged across 5 different random initialization \n",
    "- These results are given in Table 4 of the paper. The result may slightly vary due to random initialization."
   ]
  },
  {
   "cell_type": "code",
   "execution_count": 24,
   "metadata": {},
   "outputs": [
    {
     "name": "stdout",
     "output_type": "stream",
     "text": [
      "Results of Classifying Emx1-IRES-Cre(natural_movie_one) data using SVM_Classifier: 57.45273109243698(mean) 0.353006040208119(std) \n",
      "Results of Classifying Emx1-IRES-Cre(natural_movie_two) data using SVM_Classifier: 56.188023180940114(mean) 0.6207186997962485(std) \n",
      "Results of Classifying Emx1-IRES-Cre(natural_movie_three) data using SVM_Classifier: 70.80882352941178(mean) 0.4516501357666795(std) \n",
      "Results of Classifying Emx1-IRES-Cre(spontaneous) data using SVM_Classifier: 61.01890756302521(mean) 1.2351652647454405(std) \n",
      "Results of Classifying Nr5a1-Cre(natural_movie_one) data using SVM_Classifier: 54.19469026548673(mean) 0.9543582098791449(std) \n",
      "Results of Classifying Nr5a1-Cre(natural_movie_two) data using SVM_Classifier: 56.46560846560847(mean) 1.343957004728597(std) \n",
      "Results of Classifying Nr5a1-Cre(natural_movie_three) data using SVM_Classifier: 61.53982300884957(mean) 1.0198131179389678(std) \n",
      "Results of Classifying Nr5a1-Cre(spontaneous) data using SVM_Classifier: 53.115044247787615(mean) 0.7090699335932775(std) \n",
      "done\n"
     ]
    }
   ],
   "source": [
    "from classification_api import classifiers, run_supervised_classification\n",
    "\n",
    "for cre_line in cre_lines:\n",
    "    for stimuli in stimuli_set:\n",
    "        run_supervised_classification(cre_line, stimuli, classifiers.SVM)\n"
   ]
  },
  {
   "cell_type": "code",
   "execution_count": null,
   "metadata": {},
   "outputs": [],
   "source": []
  },
  {
   "cell_type": "code",
   "execution_count": null,
   "metadata": {},
   "outputs": [],
   "source": []
  }
 ],
 "metadata": {
  "kernelspec": {
   "display_name": "venv",
   "language": "python",
   "name": "venv"
  },
  "language_info": {
   "codemirror_mode": {
    "name": "ipython",
    "version": 3
   },
   "file_extension": ".py",
   "mimetype": "text/x-python",
   "name": "python",
   "nbconvert_exporter": "python",
   "pygments_lexer": "ipython3",
   "version": "3.7.5"
  }
 },
 "nbformat": 4,
 "nbformat_minor": 4
}
